{
 "cells": [
  {
   "cell_type": "markdown",
   "id": "78714dca",
   "metadata": {},
   "source": [
    "# Preprocessing in Remote Sensing: Stacking\n",
    "\n",
    "---\n",
    "\n",
    "This section describes the fundamental preprocessing step of band stacking, which is essential for creating multispectral or hyperspectral image composites from individual spectral bands:\n",
    "\n",
    "Band stacking is the process of combining multiple single-band raster images—each representing reflectance in a specific wavelength—into a single multi-band file. This is a crucial step for most remote sensing analyses, as many indices (e.g., NDVI, NDWI) or classification methods rely on the spectral relationship between bands.\n",
    "\n",
    "Band stacking requires that all input images are perfectly coregistered and have the same spatial resolution, projection, and extent. If not, misalignment artifacts may appear and compromise the analysis.\n",
    "\n",
    "---\n",
    "\n",
    "## Import"
   ]
  },
  {
   "cell_type": "code",
   "execution_count": 1,
   "id": "35659e3d",
   "metadata": {},
   "outputs": [],
   "source": [
    "from osgeo import gdal,osr,gdalconst\n",
    "gdal.UseExceptions()\n",
    "\n",
    "import numpy as np\n",
    "import matplotlib.pyplot as plt\n",
    "from pathlib import Path\n",
    "import zipfile\n",
    "import os\n",
    "import tempfile"
   ]
  },
  {
   "cell_type": "markdown",
   "id": "8ad2a9ce",
   "metadata": {},
   "source": [
    "---\n",
    "\n",
    "## Optionnal\n",
    "\n",
    "Band stacking can consumme a lot of computer ressource. If you are not sure of your computer capacity, you can bridle your CPU and memory to 90% effectivness."
   ]
  },
  {
   "cell_type": "code",
   "execution_count": 2,
   "id": "e07eab5f",
   "metadata": {},
   "outputs": [
    {
     "name": "stdout",
     "output_type": "stream",
     "text": [
      "Limitation GDAL :\n",
      " - RAM : 12769 Mo on 14188 Mo\n",
      " - CPU : 14 hearts on 16\n"
     ]
    }
   ],
   "source": [
    "import multiprocessing\n",
    "import psutil\n",
    "\n",
    "total_ram_bytes = psutil.virtual_memory().total #obtain your memory capacity\n",
    "total_ram_mb = total_ram_bytes // (1024 * 1024) #convertion byte -> mb\n",
    "\n",
    "cpu_count = multiprocessing.cpu_count() #obtain your cpu number\n",
    "\n",
    "# 90% effectivness\n",
    "ram_limit_mb = int(total_ram_mb * 0.9)\n",
    "cpu_limit = max(1, int(cpu_count * 0.9))\n",
    "\n",
    "\n",
    "gdal.SetCacheMax(ram_limit_mb * 1024 * 1024)  # We can set the cache capacity of gdal\n",
    "\n",
    "print(f\"Limitation GDAL :\")\n",
    "print(f\" - RAM : {ram_limit_mb} Mo on {total_ram_mb} Mo\")\n",
    "print(f\" - CPU : {cpu_limit} hearts on {cpu_count}\")"
   ]
  },
  {
   "cell_type": "markdown",
   "id": "7517ef34",
   "metadata": {},
   "source": [
    "---\n",
    "\n",
    "## Band Stacking\n",
    "\n",
    "In this example, we use Sentinel-2 data from corpernicus. We download 2 files : \n",
    "- S2A_MSIL2A_20190305T222531_N0500_R029_T59GPM_20221119T040431.SAFE.zip\n",
    "- S2B_MSIL2A_20190119T222539_N0500_R029_T59GPM_20221217T001329.SAFE.zip\n",
    "\n",
    "Next, we create a function who return the path of each band asked. We want B01,B02,B03,B04,B05,B06,B07,B8A,B11 and B12 at 20m resolution. This function have the particularity to create the correct path with zip file or normal file. This function work only for Sentinel-2 data."
   ]
  },
  {
   "cell_type": "code",
   "execution_count": 3,
   "id": "feaaba2a",
   "metadata": {},
   "outputs": [],
   "source": [
    "def path_finder(data_path, bands, resolution):\n",
    "    \"\"\"\n",
    "    Finds all GDAL-compatible paths (/vsizip/) to the requested tapes in a folder\n",
    "    containing .SAFE or .SAFE.zip (Sentinel-2) files.\n",
    "\n",
    "    Returns\n",
    "    -------\n",
    "    paths       : list[str]   path /vsizip/... to the band .jp2\n",
    "    band_names  : list[str]   simple band name\n",
    "    \"\"\"\n",
    "    resolution_dir = f'R{resolution}'\n",
    "    paths, band_names = [], []\n",
    "\n",
    "    # Create a list from each file within the main path\n",
    "    files = [os.path.join(data_path, f) for f in os.listdir(data_path) if f.endswith('.SAFE.zip') or f.endswith('.SAFE')]\n",
    "\n",
    "    for item in files:\n",
    "        # ZIP case\n",
    "        if item.endswith('.zip'):\n",
    "            abs_zip = os.path.abspath(item).replace(\"\\\\\", \"/\")\n",
    "            with zipfile.ZipFile(item, 'r') as z:\n",
    "                jp2_inside = [\n",
    "                    f for f in z.namelist()\n",
    "                    if f.endswith(f\"_{resolution}.jp2\")\n",
    "                    and f\"/IMG_DATA/{resolution_dir}/\" in f\n",
    "                    and any(f\"_B{b.replace('B','')}_{resolution}.jp2\" in f for b in bands)\n",
    "                ]\n",
    "            for rel in jp2_inside:\n",
    "                vsipath = f\"/vsizip/{abs_zip}/{rel}\"\n",
    "                paths.append(vsipath)\n",
    "                band_names.append(os.path.splitext(os.path.basename(rel))[0])\n",
    "\n",
    "        # UNZIP case\n",
    "        else:\n",
    "            granule_dir = os.path.join(item, \"GRANULE\")\n",
    "            granule_sub = next((os.path.join(granule_dir, d) for d in os.listdir(granule_dir)), None)\n",
    "            img_dir = os.path.join(granule_sub, \"IMG_DATA\", resolution_dir)\n",
    "            jp2_files = [\n",
    "                f for f in os.listdir(img_dir)\n",
    "                if f.endswith(f\"_{resolution}.jp2\")\n",
    "                and any(f\"_B{b.replace('B','')}_{resolution}.jp2\" in f for b in bands)\n",
    "            ]\n",
    "            for f in jp2_files:\n",
    "                fpath = os.path.join(img_dir, f).replace(\"\\\\\", \"/\")\n",
    "                paths.append(fpath)\n",
    "                band_names.append(os.path.splitext(f)[0])\n",
    "\n",
    "\n",
    "    return paths, band_names\n",
    "\n",
    "path,desc=path_finder(\"data_copernicus_2\",bands=['B01','B02','B03','B04','B05','B06','B07','B8A','B11','B12'],resolution='20m')"
   ]
  },
  {
   "cell_type": "markdown",
   "id": "42203b74",
   "metadata": {},
   "source": [
    "When we have a list of file, we can use gdal.buildVRT to create .vrt file. This step is used to prepare the input data for gdal.translate. In the options of gdal.buildVRT, we choose the parameters of the first image in the list as a reference and in order to make a stack we must choose \"separate=True\". Finally this vrt file is converted in geotif thank to gdal.translate. \n",
    "\n",
    "If you need, you can choose the parameter of gdal.translate. It's important to choose the right interleave,compression and tile paramaters."
   ]
  },
  {
   "cell_type": "code",
   "execution_count": 5,
   "id": "5a9f12aa",
   "metadata": {},
   "outputs": [],
   "source": [
    "liste_paths = path\n",
    "liste_bande_name = desc\n",
    "\n",
    "# First image = ref\n",
    "ref_ds = gdal.Open(liste_paths[0])\n",
    "gt = ref_ds.GetGeoTransform()\n",
    "xres, yres = gt[1], abs(gt[5])\n",
    "xmin = gt[0]\n",
    "ymax = gt[3]\n",
    "xmax = xmin + ref_ds.RasterXSize * xres\n",
    "ymin = ymax - ref_ds.RasterYSize * yres\n",
    "projection = ref_ds.GetProjection()\n",
    "ref_ds = None\n",
    "\n",
    "# Creation of temporary vrt file\n",
    "with tempfile.NamedTemporaryFile(suffix=\".vrt\", delete=False) as tmp_vrt:\n",
    "    vrt_path = tmp_vrt.name\n",
    "\n",
    "vrt_options = gdal.BuildVRTOptions(\n",
    "    resolution='user',\n",
    "    xRes=xres,\n",
    "    yRes=yres,\n",
    "    outputBounds=[xmin, ymin, xmax, ymax],\n",
    "    outputSRS=projection,\n",
    "    resampleAlg=\"bilinear\",\n",
    "    separate=True #Important for stacking\n",
    ")\n",
    "vrt_ds = gdal.BuildVRT(\n",
    "    \"\",\n",
    "    srcDSOrSrcDSTab=liste_paths,\n",
    "    options=vrt_options\n",
    ")\n",
    "\n",
    "# VRT to geotif\n",
    "ds=gdal.Translate(\n",
    "    \"stacked.tif\",\n",
    "    vrt_ds,\n",
    "    creationOptions=[\"COMPRESS=LZW\", \"TILED=YES\", \"INTERLEAVE=BAND\",\"BIGTIFF=yes\",f\"NUM_THREADS={cpu_limit}\"]\n",
    ")\n",
    "ds=None\n",
    "vrt_ds = None\n",
    "os.remove(vrt_path) #remove the vrt file\n",
    "\n",
    "# If we want band name\n",
    "ds_out = gdal.Open(\"stacked.tif\", gdal.GA_Update)\n",
    "for i, band_name in enumerate(liste_bande_name, start=1):\n",
    "    band = ds_out.GetRasterBand(i)\n",
    "    band.SetDescription(band_name)\n",
    "ds_out.FlushCache()\n",
    "ds_out = None"
   ]
  }
 ],
 "metadata": {
  "kernelspec": {
   "display_name": "Python (remote_sensing_V1)",
   "language": "python",
   "name": "remote_sensing_v1"
  },
  "language_info": {
   "codemirror_mode": {
    "name": "ipython",
    "version": 3
   },
   "file_extension": ".py",
   "mimetype": "text/x-python",
   "name": "python",
   "nbconvert_exporter": "python",
   "pygments_lexer": "ipython3",
   "version": "3.12.3"
  }
 },
 "nbformat": 4,
 "nbformat_minor": 5
}
